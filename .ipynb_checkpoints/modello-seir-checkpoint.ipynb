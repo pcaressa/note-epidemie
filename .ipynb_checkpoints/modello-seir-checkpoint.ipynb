{
 "cells": [
  {
   "cell_type": "markdown",
   "metadata": {},
   "source": [
    "# Una modifica del modello SIR\n",
    "\n",
    "Nel modello epidemiologico SIR, considerando la popolazione che si studia costante e di numerosità $N$, il diffondersi dell'epidemia è modellizzata dal sistema di equazioni differenziali\n",
    "\n",
    "$$\n",
    "\\begin{cases}\n",
    "\\displaystyle\n",
    "    S' = -\\beta\\frac{IS}{N}   \\\\\n",
    "\\displaystyle\n",
    "    I' = \\beta \\frac{IS}{N} -\\gamma I  \\\\\n",
    "\\displaystyle\n",
    "    R' = \\gamma I\n",
    "\\end{cases}\n",
    "$$\n",
    "\n",
    "dove $I$ è il numero di infetti, $R$ il numero di rimossi (cioè persone che hanno passato l'infezione e sono guarite, decedute o altro), $S$ il rimanente della popolazione.\n",
    "\n",
    "I dati a disposizione durante una epidemia non consentono tuttavia di applicare questo modello in modo semplice: in particolare si dispone solitamente di:\n",
    "\n",
    "- Il numero di persone per le quali si è verificato se sono contagiate o meno\n",
    "- Il numero di persone trovate contagiate\n",
    "- Il numero di persone decedute\n",
    "- Il numero di persone guarite\n",
    "\n",
    "Le persone sicuramente infette fanno parte del compartimento $I$, le persone decedute del comparimento $D$, le persone guarite del compartimento $G$, le persone risultate negative nel compartimento $O$, le rimanenti persone cui è stato fatto il test del compartimento $T$. Il resto della popolazione si considera nel compartimento $S$. In particolare\n",
    "\n",
    "$$\n",
    "    S = N - T, \\qquad T = I + D + G + O\n",
    "$$\n",
    "\n",
    "La dinamica può avvenire in questo modo:\n",
    "\n",
    "- Da $S$ si passa in $T$\n",
    "- Da $O$ si passa a $I$\n",
    "- Da $I$ si passa a $D$ o $G$\n",
    "\n",
    "Le equazioni che descrivono questa dinamica sono\n",
    "\n",
    "$$\n",
    "\\begin{cases}\n",
    "\\displaystyle\n",
    "    T' = \\alpha\\frac{T(N-T)}{N}   \\\\\n",
    "\\displaystyle\n",
    "    I' = \\beta \\frac{IT}{N} -\\gamma I - \\delta I  \\\\\n",
    "\\displaystyle\n",
    "    D' = \\delta I   \\\\\n",
    "\\displaystyle\n",
    "    G' = \\gamma I\n",
    "\\end{cases}\n",
    "$$\n",
    "\n",
    "Cominciamo con l'importare il dataset che contiene questi dati"
   ]
  },
  {
   "cell_type": "code",
   "execution_count": 4,
   "metadata": {},
   "outputs": [],
   "source": [
    "import git\n",
    "import json\n",
    "import os\n",
    "import shutil\n",
    "import tempfile\n",
    "\n",
    "tempdir = tempfile.mkdtemp()\n",
    "repo = git.Repo.clone_from('https://github.com/pcm-dpc/COVID-19', tempdir, branch='master', depth=1)\n",
    "with open(os.path.join(tempdir, 'dati-json','dpc-covid19-ita-andamento-nazionale.json')) as f:\n",
    "    DATA = json.load(f)\n",
    "try:\n",
    "    shutil.rmtree(tempdir)\n",
    "except:\n",
    "    # potrebbero esserci problemi di permessi... alla peggio la cartella viene cancellata dall'OS\n",
    "    pass\n",
    "\n",
    "# Estraggo le serie storiche di interesse\n",
    "serie_T = [i[\"tamponi\"] for i in DATA]\n",
    "serie_I = [i[\"totale_attualmente_positivi\"] for i in DATA]\n",
    "serie_D = [i[\"deceduti\"] for i in DATA]\n",
    "serie_G = [i[\"dimessi_guariti\"] for i in DATA]"
   ]
  },
  {
   "cell_type": "markdown",
   "metadata": {},
   "source": [
    "Ora calibriamo il modello su questa serie storica per ottenere i valori ottimali di $\\alpha$, $\\beta$, $\\gamma$ e $\\delta$."
   ]
  },
  {
   "cell_type": "code",
   "execution_count": 8,
   "metadata": {},
   "outputs": [
    {
     "name": "stdout",
     "output_type": "stream",
     "text": [
      "alpha ottimale = 0.1518110280803428\n",
      "beta ottimale = 1.1009825713070152\n",
      "gamma ottimale = 0.3204770326640358\n",
      "delta ottimale = -0.5177074267483348\n"
     ]
    },
    {
     "data": {
      "text/plain": [
       "<matplotlib.legend.Legend at 0x1ccf4d2b808>"
      ]
     },
     "execution_count": 8,
     "metadata": {},
     "output_type": "execute_result"
    },
    {
     "data": {
      "image/png": "[encoded data removed]",
      "text/plain": [
       "<Figure size 432x288 with 1 Axes>"
      ]
     },
     "metadata": {
      "needs_background": "light"
     },
     "output_type": "display_data"
    }
   ],
   "source": [
    "import matplotlib.pyplot as plt\n",
    "import numpy as np\n",
    "from scipy.integrate import odeint\n",
    "from scipy.optimize import fmin\n",
    "\n",
    "# La funzione seguente torna un array con le curve T, I, D, G calcolate nei punti\n",
    "# dell'intervallo, a partire dalle serie storiche e su beta e gamma ottimizzati\n",
    "def Modello(N, T, I, D, G, intervallo, verbose=True):\n",
    "    serie = np.array([[T[i], I[i], D[i], G[i]] for i in range(len(T))])\n",
    "    serie0 = serie[0]\n",
    "\n",
    "    # Calibriamo per t0 = 0, t1 = lunghezza serie - 1\n",
    "    intervallo_dati = np.arange(len(T))\n",
    "\n",
    "    def f(y, t, alpha, beta, gamma, delta):\n",
    "        # y = [T(t), I(t), D(t), G(t)]\n",
    "        return [alpha*y[0]*(N-y[0])/N,\n",
    "                beta*y[0]/N-(gamma+delta)*y[1],\n",
    "                delta*y[2],\n",
    "                gamma*y[3]\n",
    "               ]\n",
    "\n",
    "    def modello(parametri):\n",
    "        # Risolve il sistema di equazioni\n",
    "        y = odeint(f, serie0, intervallo_dati, args=tuple(parametri))\n",
    "        return np.linalg.norm(y - serie)\n",
    "\n",
    "    # Trova il valore ottimale di beta e gamma\n",
    "    valori_ottimali = fmin(modello, (1, 1, 1, 1), disp = False)   # valori iniziali dei paramatri\n",
    "\n",
    "    if verbose:\n",
    "        print(\"alpha ottimale =\", valori_ottimali[0])\n",
    "        print(\"beta ottimale =\", valori_ottimali[1])\n",
    "        print(\"gamma ottimale =\", valori_ottimali[2])\n",
    "        print(\"delta ottimale =\", valori_ottimali[3])\n",
    "\n",
    "    return odeint(f, serie0, intervallo, args=tuple(valori_ottimali))\n",
    "\n",
    "N = 20e6\n",
    "# Ora disegna la soluzione per i valori ottimali ottimale\n",
    "intervallo = np.arange(len(serie_I))\n",
    "y = Modello(N, serie_T, serie_I, serie_D, serie_G, intervallo)\n",
    "plt.plot(intervallo, serie_T, 'ro', label=\"Dati reali per I\")\n",
    "plt.plot(intervallo, y[:,0], label=\"Modello per I\")\n",
    "plt.legend()"
   ]
  },
  {
   "cell_type": "code",
   "execution_count": null,
   "metadata": {},
   "outputs": [],
   "source": []
  }
 ],
 "metadata": {
  "kernelspec": {
   "display_name": "Python 3",
   "language": "python",
   "name": "python3"
  },
  "language_info": {
   "codemirror_mode": {
    "name": "ipython",
    "version": 3
   },
   "file_extension": ".py",
   "mimetype": "text/x-python",
   "name": "python",
   "nbconvert_exporter": "python",
   "pygments_lexer": "ipython3",
   "version": "3.7.4"
  }
 },
 "nbformat": 4,
 "nbformat_minor": 4
}
