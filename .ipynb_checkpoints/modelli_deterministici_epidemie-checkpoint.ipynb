{
 "cells": [
  {
   "cell_type": "markdown",
   "metadata": {},
   "source": [
    "# Modelli deterministici dell'epidemologia\n",
    "\n",
    "### Paolo Caressa, PhD <http://www.caressa.it>\n",
    "\n",
    "## Premessa\n",
    "\n",
    "Quel che segue sono le mie note di studio dei classici modelli epidemiologici deterministici. Oltre ai modelli classici studio qualche variazione.\n",
    "\n",
    "Roma, 21 marzo 2020.\n",
    "\n",
    "## Considerazioni generali\n",
    "\n",
    "I modelli che considereremo sono tutti modelli dati da sistemi di equazioni differenziali ordinarie che tentano di descrivere l'andamento della diffusione di una epidemia sulla base della dinamica di una partizione della popolazione in esame.\n",
    "\n",
    "Si fissa quindi una partizione $\\mathcal P = \\mathcal P_1\\cup \\mathcal P_2\\cup\\cdots\\cup \\mathcal P_c$ della popolazione in $c$ classi che chiamiamo *compartimenti*: lo stato del sistema è descritto dai numeri $P_1(t),...,P_c(t)$ che descrivono le cardinalità delle partizioni a ogni istante. La somma di queste cardinalità è un numero $N(t)$ che descrive la popolazione in esame all'istante $t$.\n",
    "\n",
    "Dall'istante $t$ all'istante $dt$ supponiamo che ciascuno dei compartimenti possa variare in numero, nel senso che qualcuno (o nessuno) dei suoi elementi passa a un altro compartimento. La variazione nel numero degli elementi di $P_i$ si suppone sia data da una legge del tipo:\n",
    "\n",
    "$$\n",
    "    P_i(t+dt) = P_i(t) + \\frac{1}{N(t)} \\sum_{j\\neq i} a_{ij} P_i(t)P_j(t) dt\n",
    "$$\n",
    "\n",
    "In altri termini, l'incremento $dP_i$ è proporzionale a $P_i$ moltiplicato per un contributo che dipende linearmente dai rimanenti compartimenti al tempo $t$. In termini differenziali:\n",
    "\n",
    "$$\n",
    "    P_i' = \\frac{1}{N(t)} \\sum_{j\\neq i} a_{ij} P_i(t)P_j(t)\n",
    "$$\n",
    "\n",
    "**Esempio.**\n",
    "Se $c=1$ abbiamo $N=P_1$ e troviamo la singola equazione\n",
    "\n",
    "$$\n",
    "    P_1' = \\frac{a_{11}P_1^2}{N} = a_{11}P_1\n",
    "$$\n",
    "\n",
    "cioè la legge esponenziale: come ben noto dividendo per $P_1$ si ottiene $P_1'/P_1 = a_{11}$ il cui primo termine è la derivata $(\\log P_1)'=a_{11}$ da cui troviamo $\\log(P_1/P_1(0))=a_{11}(t-t_0)$, dove $t_0$ è l'istante iniziale. Pertanto\n",
    "\n",
    "$$\n",
    "    P_1(t) = P_1(0)\\exp({a_{11}(t-t_0)})\n",
    "$$\n",
    "\n",
    "**Esempio.** Se $c=2$ allora troviamo la coppia di equazioni\n",
    "\n",
    "$$\n",
    "\\begin{cases}\n",
    "    P_1' = \\frac{P_1}{N} \\left( a_{11}P_1 + a_{12}P_2 \\right)    \\\\\n",
    "    P_2' = \\frac{P_2}{N} \\left( a_{21}P_1 + a_{22}P_2 \\right)\n",
    "\\end{cases}\n",
    "$$\n",
    "\n",
    "Se teniamo conto della relazione $N=P_1+P_2$, troviamo che\n",
    "\n",
    "$$\n",
    "\\begin{cases}\n",
    "    P_1' = \\frac{P_1}{N} \\left( a_{11}P_1 + a_{12}(N-P_1) \\right) = a_{11} \\frac{P_1^2}{N} + a_{12}\\frac{P_1(N-P_1)}{N}   \\\\\n",
    "    P_2' = \\frac{P_2}{N} \\left( a_{21}(N-P_2) + a_{22}P_2 \\right) = \n",
    "\\end{cases}\n",
    "$$\n"
   ]
  },
  {
   "cell_type": "code",
   "execution_count": null,
   "metadata": {},
   "outputs": [],
   "source": []
  }
 ],
 "metadata": {
  "kernelspec": {
   "display_name": "Python 3",
   "language": "python",
   "name": "python3"
  },
  "language_info": {
   "codemirror_mode": {
    "name": "ipython",
    "version": 3
   },
   "file_extension": ".py",
   "mimetype": "text/x-python",
   "name": "python",
   "nbconvert_exporter": "python",
   "pygments_lexer": "ipython3",
   "version": "3.7.4"
  }
 },
 "nbformat": 4,
 "nbformat_minor": 4
}
