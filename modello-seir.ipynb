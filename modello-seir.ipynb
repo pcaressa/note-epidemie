{
 "cells": [
  {
   "cell_type": "markdown",
   "metadata": {},
   "source": [
    "# Una modifica del modello SIR\n",
    "\n",
    "Nel modello epidemiologico SIR, considerando la popolazione che si studia costante e di numerosità $N$, il diffondersi dell'epidemia è modellizzata dal sistema di equazioni differenziali\n",
    "\n",
    "$$\n",
    "\\begin{cases}\n",
    "\\displaystyle\n",
    "    S' = -\\beta\\frac{IS}{N}   \\\\\n",
    "\\displaystyle\n",
    "    I' = \\beta \\frac{IS}{N} -\\gamma I  \\\\\n",
    "\\displaystyle\n",
    "    R' = \\gamma I\n",
    "\\end{cases}\n",
    "$$\n",
    "\n",
    "dove $I$ è il numero di infetti, $R$ il numero di rimossi (cioè persone che hanno passato l'infezione e sono guarite, decedute o altro), $S$ il rimanente della popolazione.\n",
    "\n",
    "I dati a disposizione durante una epidemia non consentono tuttavia di applicare questo modello in modo semplice: in particolare si dispone solitamente di:\n",
    "\n",
    "- Il numero di persone per le quali si è verificato se sono contagiate o meno\n",
    "- Il numero di persone trovate contagiate\n",
    "- Il numero di persone decedute\n",
    "- Il numero di persone guarite\n",
    "\n",
    "Le persone sicuramente infette fanno parte del compartimento $I$, le persone decedute del comparimento $D$, le persone guarite del compartimento $G$, le persone risultate negative nel compartimento $O$, le rimanenti persone cui è stato fatto il test del compartimento $T$. Il resto della popolazione si considera nel compartimento $S$. In particolare\n",
    "\n",
    "$$\n",
    "    S = N - T, \\qquad T = I + D + G + O\n",
    "$$\n",
    "\n",
    "La dinamica può avvenire in questo modo:\n",
    "\n",
    "- Da $S$ si passa in $T$\n",
    "- Da $O$ si passa a $I$\n",
    "- Da $I$ si passa a $R=D+G$\n",
    "\n",
    "Le equazioni che descrivono questa dinamica sono\n",
    "\n",
    "$$\n",
    "\\begin{cases}\n",
    "\\displaystyle\n",
    "    T' = \\alpha\\frac{T(N-T)}{N}   \\\\\n",
    "\\displaystyle\n",
    "    I' = \\beta \\frac{I(T-R-I)}{T} -\\gamma I  \\\\\n",
    "\\displaystyle\n",
    "    R' = \\gamma I   \\\\\n",
    "\\end{cases}\n",
    "$$\n",
    "\n",
    "Cominciamo con l'importare il dataset che contiene questi dati"
   ]
  },
  {
   "cell_type": "code",
   "execution_count": 44,
   "metadata": {},
   "outputs": [],
   "source": [
    "import git\n",
    "import json\n",
    "import os\n",
    "import shutil\n",
    "import tempfile\n",
    "\n",
    "tempdir = tempfile.mkdtemp()\n",
    "repo = git.Repo.clone_from('https://github.com/pcm-dpc/COVID-19', tempdir, branch='master', depth=1)\n",
    "with open(os.path.join(tempdir, 'dati-json','dpc-covid19-ita-andamento-nazionale.json')) as f:\n",
    "    DATA = json.load(f)\n",
    "try:\n",
    "    shutil.rmtree(tempdir)\n",
    "except:\n",
    "    # potrebbero esserci problemi di permessi... alla peggio la cartella viene cancellata dall'OS\n",
    "    pass\n",
    "\n",
    "# Estraggo le serie storiche di interesse\n",
    "serie_T = [i[\"tamponi\"] for i in DATA]\n",
    "serie_I = [i[\"totale_attualmente_positivi\"] for i in DATA]\n",
    "serie_D = [i[\"deceduti\"] for i in DATA]\n",
    "serie_G = [i[\"dimessi_guariti\"] for i in DATA]\n",
    "serie_R = [i[\"dimessi_guariti\"]+i[\"deceduti\"] for i in DATA]"
   ]
  },
  {
   "cell_type": "markdown",
   "metadata": {},
   "source": [
    "Ora calibriamo il modello su questa serie storica per ottenere i valori ottimali di $\\alpha$, $\\beta$, $\\gamma$ e $\\delta$."
   ]
  },
  {
   "cell_type": "code",
   "execution_count": 1,
   "metadata": {},
   "outputs": [
    {
     "ename": "NameError",
     "evalue": "name 'serie_T' is not defined",
     "output_type": "error",
     "traceback": [
      "\u001b[1;31m---------------------------------------------------------------------------\u001b[0m",
      "\u001b[1;31mNameError\u001b[0m                                 Traceback (most recent call last)",
      "\u001b[1;32m<ipython-input-1-f3e012103758>\u001b[0m in \u001b[0;36m<module>\u001b[1;34m\u001b[0m\n\u001b[0;32m     37\u001b[0m \u001b[1;31m# Ora disegna la soluzione per i valori ottimali ottimale\u001b[0m\u001b[1;33m\u001b[0m\u001b[1;33m\u001b[0m\u001b[1;33m\u001b[0m\u001b[0m\n\u001b[0;32m     38\u001b[0m \u001b[0mintervallo\u001b[0m \u001b[1;33m=\u001b[0m \u001b[0mnp\u001b[0m\u001b[1;33m.\u001b[0m\u001b[0marange\u001b[0m\u001b[1;33m(\u001b[0m\u001b[1;36m180\u001b[0m\u001b[1;33m)\u001b[0m\u001b[1;33m\u001b[0m\u001b[1;33m\u001b[0m\u001b[0m\n\u001b[1;32m---> 39\u001b[1;33m \u001b[0my\u001b[0m \u001b[1;33m=\u001b[0m \u001b[0mModello\u001b[0m\u001b[1;33m(\u001b[0m\u001b[1;36m2e6\u001b[0m\u001b[1;33m,\u001b[0m \u001b[0mserie_T\u001b[0m\u001b[1;33m,\u001b[0m \u001b[0mserie_I\u001b[0m\u001b[1;33m,\u001b[0m \u001b[0mserie_R\u001b[0m\u001b[1;33m,\u001b[0m \u001b[0mintervallo\u001b[0m\u001b[1;33m)\u001b[0m\u001b[1;33m\u001b[0m\u001b[1;33m\u001b[0m\u001b[0m\n\u001b[0m\u001b[0;32m     40\u001b[0m \u001b[1;33m\u001b[0m\u001b[0m\n\u001b[0;32m     41\u001b[0m \u001b[1;32mdef\u001b[0m \u001b[0mgrafico\u001b[0m\u001b[1;33m(\u001b[0m\u001b[0mhandle\u001b[0m\u001b[1;33m,\u001b[0m \u001b[0mintervallo\u001b[0m\u001b[1;33m,\u001b[0m \u001b[0mdati\u001b[0m\u001b[1;33m,\u001b[0m \u001b[0mcurva\u001b[0m\u001b[1;33m,\u001b[0m \u001b[0mtitolo\u001b[0m\u001b[1;33m)\u001b[0m\u001b[1;33m:\u001b[0m\u001b[1;33m\u001b[0m\u001b[1;33m\u001b[0m\u001b[0m\n",
      "\u001b[1;31mNameError\u001b[0m: name 'serie_T' is not defined"
     ]
    }
   ],
   "source": [
    "import matplotlib.pyplot as plt\n",
    "import numpy as np\n",
    "from scipy.integrate import odeint\n",
    "from scipy.optimize import fmin\n",
    "\n",
    "# La funzione seguente torna un array con le curve T, I, D, G calcolate nei punti\n",
    "# dell'intervallo, a partire dalle serie storiche e su beta e gamma ottimizzati\n",
    "def Modello(N, T, I, R, intervallo, verbose=True):\n",
    "    serie = np.array([[T[i], I[i], R[i]] for i in range(len(T))])\n",
    "    serie0 = serie[0]\n",
    "    \n",
    "    # Calibriamo per t0 = 0, t1 = lunghezza serie - 1\n",
    "    intervallo_dati = np.arange(len(T))\n",
    "    \n",
    "    def f(y, t, alpha, beta, gamma):\n",
    "        # y = [T(t), I(t), R(t)]\n",
    "        return [alpha*y[0]*(N-y[0])/N,\n",
    "                beta*(y[0]-y[1]-y[2])*y[1]/y[0]-gamma*y[1],\n",
    "                gamma*y[1]\n",
    "               ]\n",
    "    \n",
    "    def modello(parametri):\n",
    "        # Risolve il sistema di equazioni\n",
    "        y = odeint(f, serie0, intervallo_dati, args=tuple(parametri))\n",
    "        return np.linalg.norm(y - serie)\n",
    "\n",
    "    # Trova il valore ottimale di beta e gamma e delta\n",
    "    valori_ottimali = fmin(modello, (0.1, 0.1, 0.1), disp = False)   # valori iniziali dei paramatri\n",
    "\n",
    "    if verbose:\n",
    "        print(\"alpha ottimale =\", valori_ottimali[0])\n",
    "        print(\"beta ottimale =\", valori_ottimali[1])\n",
    "        print(\"gamma ottimale =\", valori_ottimali[2])\n",
    "\n",
    "    return odeint(f, serie0, intervallo, args=tuple(valori_ottimali))\n",
    "\n",
    "# Ora disegna la soluzione per i valori ottimali ottimale\n",
    "intervallo = np.arange(180)\n",
    "y = Modello(2e6, serie_T, serie_I, serie_R, intervallo)\n",
    "\n",
    "def grafico(handle, intervallo, dati, curva, titolo):\n",
    "    handle.plot(intervallo[:len(dati)], dati, 'ro', label=f\"Dati reali\")\n",
    "    handle.plot(intervallo, curva, label=f\"Modello\")\n",
    "    handle.grid()\n",
    "    handle.set_title(titolo)\n",
    "\n",
    "fig, axes = plt.subplots(2, 2, figsize=(10, 5)) #, sharex='all', sharey='all')\n",
    "fig.tight_layout(pad=3.0)\n",
    "grafico(axes[0,0], intervallo, serie_T, y[:,0], \"T\")\n",
    "grafico(axes[0,1], intervallo, serie_I, y[:,1], \"I\")\n",
    "grafico(axes[1,0], intervallo, serie_R, y[:,2], \"G\")\n",
    "handles, labels = axes[0,0].get_legend_handles_labels()\n",
    "fig.legend(handles=handles,   # The line objects\n",
    "           labels=labels,     # The labels for each line\n",
    "           loc=\"lower left\",  # Position of legend\n",
    "           borderaxespad=0.1, # Small spacing around legend box\n",
    "           )\n"
   ]
  },
  {
   "cell_type": "markdown",
   "metadata": {},
   "source": [
    "Provo una ottimizzazione con un modello stupido: suppongo che I sia sviluppata in serie di Fourier\n",
    "\n",
    "$$\n",
    "    I(t) = I_0 + a_1\\cos(t) + b_1\\sin(t) + a_2\\cos(2t) +b_2\\sin(2t) + ...\n",
    "$$\n"
   ]
  },
  {
   "cell_type": "code",
   "execution_count": 45,
   "metadata": {},
   "outputs": [
    {
     "name": "stdout",
     "output_type": "stream",
     "text": [
      "a1 = -57803.34378767423\n",
      "b1 = -0.012839690979280659\n",
      "a2 = 0.12081744182008833\n",
      "b2 = 0.08510227455227903\n"
     ]
    },
    {
     "data": {
      "image/png": "[encoded data removed]",
      "text/plain": [
       "<Figure size 720x360 with 1 Axes>"
      ]
     },
     "metadata": {
      "needs_background": "light"
     },
     "output_type": "display_data"
    }
   ],
   "source": [
    "import matplotlib.pyplot as plt\n",
    "import numpy as np\n",
    "from scipy.integrate import odeint\n",
    "from scipy.optimize import fmin\n",
    "\n",
    "serie_I = serie_I[15:]\n",
    "\n",
    "# La funzione seguente torna un array con le curve T, I, D, G calcolate nei punti\n",
    "# dell'intervallo, a partire dalle serie storiche e su beta e gamma ottimizzati\n",
    "def Modello(I, delta_x, verbose=True):\n",
    "    I0 = I[-1]\n",
    "    # Calibriamo per t0 = 0, t1 = lunghezza serie - 1\n",
    "    data_x = np.arange(len(I))\n",
    "    \n",
    "    def f(x, p):\n",
    "        return I0 + p[0]*np.exp(p[1]*x)*np.cos(p[2]+p[3]*x)\n",
    "    \n",
    "    def modello(p):\n",
    "        return np.linalg.norm(f(data_x, p) - I)\n",
    "\n",
    "    # Trova il valore ottimale di beta e gamma e delta\n",
    "    p = fmin(modello, (I0/2,1,0,1), disp = False)   # valori iniziali dei paramatri\n",
    "\n",
    "    if verbose:\n",
    "        print(\"a1 =\", p[0])\n",
    "        print(\"b1 =\", p[1])\n",
    "        print(\"a2 =\", p[2])\n",
    "        print(\"b2 =\", p[3])\n",
    "\n",
    "    return f(delta_x, p)\n",
    "\n",
    "# Ora disegna la soluzione per i valori ottimali ottimale\n",
    "intervallo = np.arange(80)\n",
    "y = Modello(serie_I, intervallo)\n",
    "\n",
    "def grafico(handle, intervallo, dati, curva, titolo):\n",
    "    handle.plot(intervallo[:len(dati)], dati, 'ro', label=f\"Dati reali\")\n",
    "    handle.plot(intervallo, curva, label=f\"Modello\")\n",
    "    handle.grid()\n",
    "    handle.set_title(titolo)\n",
    "\n",
    "fig, axes = plt.subplots(1, 1, figsize=(10, 5)) #, sharex='all', sharey='all')\n",
    "fig.tight_layout(pad=3.0)\n",
    "grafico(axes, intervallo, serie_I, y, \"I\")\n",
    "handles, labels = axes.get_legend_handles_labels()\n",
    "fig.legend(handles=handles,   # The line objects\n",
    "           labels=labels,     # The labels for each line\n",
    "           loc=\"lower left\",  # Position of legend\n",
    "           borderaxespad=0.1, # Small spacing around legend box\n",
    "           )\n",
    "plt.show(\"fake.png\")"
   ]
  },
  {
   "cell_type": "code",
   "execution_count": 38,
   "metadata": {},
   "outputs": [
    {
     "data": {
      "text/plain": [
       "[20603,\n",
       " 23073,\n",
       " 26062,\n",
       " 28710,\n",
       " 33190,\n",
       " 37860,\n",
       " 42681,\n",
       " 46638,\n",
       " 50418,\n",
       " 54030,\n",
       " 57521,\n",
       " 62013]"
      ]
     },
     "execution_count": 38,
     "metadata": {},
     "output_type": "execute_result"
    }
   ],
   "source": [
    "serie_I"
   ]
  },
  {
   "cell_type": "code",
   "execution_count": null,
   "metadata": {},
   "outputs": [],
   "source": []
  }
 ],
 "metadata": {
  "kernelspec": {
   "display_name": "Python 3",
   "language": "python",
   "name": "python3"
  },
  "language_info": {
   "codemirror_mode": {
    "name": "ipython",
    "version": 3
   },
   "file_extension": ".py",
   "mimetype": "text/x-python",
   "name": "python",
   "nbconvert_exporter": "python",
   "pygments_lexer": "ipython3",
   "version": "3.7.4"
  }
 },
 "nbformat": 4,
 "nbformat_minor": 4
}
